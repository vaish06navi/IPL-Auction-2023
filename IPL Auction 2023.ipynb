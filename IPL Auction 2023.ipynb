{
 "cells": [
  {
   "cell_type": "code",
   "execution_count": 32,
   "id": "f1dae0cf",
   "metadata": {},
   "outputs": [],
   "source": [
    "import numpy as np\n",
    "import pandas as pd\n",
    "import os\n",
    "import matplotlib.pyplot as plt\n",
    "%matplotlib inline\n",
    "import seaborn as sns"
   ]
  },
  {
   "cell_type": "code",
   "execution_count": 3,
   "id": "41991083",
   "metadata": {},
   "outputs": [
    {
     "data": {
      "text/html": [
       "<div>\n",
       "<style scoped>\n",
       "    .dataframe tbody tr th:only-of-type {\n",
       "        vertical-align: middle;\n",
       "    }\n",
       "\n",
       "    .dataframe tbody tr th {\n",
       "        vertical-align: top;\n",
       "    }\n",
       "\n",
       "    .dataframe thead th {\n",
       "        text-align: right;\n",
       "    }\n",
       "</style>\n",
       "<table border=\"1\" class=\"dataframe\">\n",
       "  <thead>\n",
       "    <tr style=\"text-align: right;\">\n",
       "      <th></th>\n",
       "      <th>name</th>\n",
       "      <th>player style</th>\n",
       "      <th>nationality</th>\n",
       "      <th>base price (in lacs)</th>\n",
       "      <th>final price (in lacs)</th>\n",
       "      <th>franchise</th>\n",
       "      <th>status</th>\n",
       "    </tr>\n",
       "  </thead>\n",
       "  <tbody>\n",
       "    <tr>\n",
       "      <th>0</th>\n",
       "      <td>Harshit Rana</td>\n",
       "      <td>Bowler</td>\n",
       "      <td>India</td>\n",
       "      <td>NaN</td>\n",
       "      <td>20.0</td>\n",
       "      <td>KKR</td>\n",
       "      <td>RETAINED</td>\n",
       "    </tr>\n",
       "    <tr>\n",
       "      <th>1</th>\n",
       "      <td>Ekant Sen</td>\n",
       "      <td>Batter</td>\n",
       "      <td>India</td>\n",
       "      <td>20.0</td>\n",
       "      <td>NaN</td>\n",
       "      <td>NaN</td>\n",
       "      <td>UNSOLD</td>\n",
       "    </tr>\n",
       "    <tr>\n",
       "      <th>2</th>\n",
       "      <td>Wayne Parnell</td>\n",
       "      <td>Allrounder</td>\n",
       "      <td>South Africa</td>\n",
       "      <td>75.0</td>\n",
       "      <td>NaN</td>\n",
       "      <td>NaN</td>\n",
       "      <td>UNSOLD</td>\n",
       "    </tr>\n",
       "    <tr>\n",
       "      <th>3</th>\n",
       "      <td>Shakib Al Hasan</td>\n",
       "      <td>Allrounder</td>\n",
       "      <td>Bangladesh</td>\n",
       "      <td>150.0</td>\n",
       "      <td>150.0</td>\n",
       "      <td>KKR</td>\n",
       "      <td>SOLD</td>\n",
       "    </tr>\n",
       "    <tr>\n",
       "      <th>4</th>\n",
       "      <td>Joe Root</td>\n",
       "      <td>Batter</td>\n",
       "      <td>England</td>\n",
       "      <td>100.0</td>\n",
       "      <td>100.0</td>\n",
       "      <td>RR</td>\n",
       "      <td>SOLD</td>\n",
       "    </tr>\n",
       "  </tbody>\n",
       "</table>\n",
       "</div>"
      ],
      "text/plain": [
       "              name player style   nationality  base price (in lacs)  \\\n",
       "0     Harshit Rana       Bowler         India                   NaN   \n",
       "1        Ekant Sen       Batter         India                  20.0   \n",
       "2    Wayne Parnell   Allrounder  South Africa                  75.0   \n",
       "3  Shakib Al Hasan   Allrounder    Bangladesh                 150.0   \n",
       "4         Joe Root       Batter       England                 100.0   \n",
       "\n",
       "   final price (in lacs) franchise    status  \n",
       "0                   20.0       KKR  RETAINED  \n",
       "1                    NaN       NaN    UNSOLD  \n",
       "2                    NaN       NaN    UNSOLD  \n",
       "3                  150.0       KKR      SOLD  \n",
       "4                  100.0        RR      SOLD  "
      ]
     },
     "execution_count": 3,
     "metadata": {},
     "output_type": "execute_result"
    }
   ],
   "source": [
    "df = pd.read_csv('iplauction2023.csv')\n",
    "df.head()"
   ]
  },
  {
   "cell_type": "code",
   "execution_count": 4,
   "id": "61e79ebf",
   "metadata": {},
   "outputs": [
    {
     "data": {
      "text/plain": [
       "(309, 7)"
      ]
     },
     "execution_count": 4,
     "metadata": {},
     "output_type": "execute_result"
    }
   ],
   "source": [
    "df.shape"
   ]
  },
  {
   "cell_type": "code",
   "execution_count": 5,
   "id": "c378ec02",
   "metadata": {},
   "outputs": [
    {
     "data": {
      "text/html": [
       "<div>\n",
       "<style scoped>\n",
       "    .dataframe tbody tr th:only-of-type {\n",
       "        vertical-align: middle;\n",
       "    }\n",
       "\n",
       "    .dataframe tbody tr th {\n",
       "        vertical-align: top;\n",
       "    }\n",
       "\n",
       "    .dataframe thead th {\n",
       "        text-align: right;\n",
       "    }\n",
       "</style>\n",
       "<table border=\"1\" class=\"dataframe\">\n",
       "  <thead>\n",
       "    <tr style=\"text-align: right;\">\n",
       "      <th></th>\n",
       "      <th>base price (in lacs)</th>\n",
       "      <th>final price (in lacs)</th>\n",
       "    </tr>\n",
       "  </thead>\n",
       "  <tbody>\n",
       "    <tr>\n",
       "      <th>count</th>\n",
       "      <td>151.000000</td>\n",
       "      <td>238.000000</td>\n",
       "    </tr>\n",
       "    <tr>\n",
       "      <th>mean</th>\n",
       "      <td>59.205298</td>\n",
       "      <td>368.067227</td>\n",
       "    </tr>\n",
       "    <tr>\n",
       "      <th>std</th>\n",
       "      <td>59.688337</td>\n",
       "      <td>449.070117</td>\n",
       "    </tr>\n",
       "    <tr>\n",
       "      <th>min</th>\n",
       "      <td>20.000000</td>\n",
       "      <td>20.000000</td>\n",
       "    </tr>\n",
       "    <tr>\n",
       "      <th>25%</th>\n",
       "      <td>20.000000</td>\n",
       "      <td>21.250000</td>\n",
       "    </tr>\n",
       "    <tr>\n",
       "      <th>50%</th>\n",
       "      <td>20.000000</td>\n",
       "      <td>150.000000</td>\n",
       "    </tr>\n",
       "    <tr>\n",
       "      <th>75%</th>\n",
       "      <td>75.000000</td>\n",
       "      <td>625.000000</td>\n",
       "    </tr>\n",
       "    <tr>\n",
       "      <th>max</th>\n",
       "      <td>200.000000</td>\n",
       "      <td>1850.000000</td>\n",
       "    </tr>\n",
       "  </tbody>\n",
       "</table>\n",
       "</div>"
      ],
      "text/plain": [
       "       base price (in lacs)  final price (in lacs)\n",
       "count            151.000000             238.000000\n",
       "mean              59.205298             368.067227\n",
       "std               59.688337             449.070117\n",
       "min               20.000000              20.000000\n",
       "25%               20.000000              21.250000\n",
       "50%               20.000000             150.000000\n",
       "75%               75.000000             625.000000\n",
       "max              200.000000            1850.000000"
      ]
     },
     "execution_count": 5,
     "metadata": {},
     "output_type": "execute_result"
    }
   ],
   "source": [
    "df.describe() #outliers are present"
   ]
  },
  {
   "cell_type": "code",
   "execution_count": 6,
   "id": "a737704a",
   "metadata": {},
   "outputs": [
    {
     "data": {
      "text/plain": [
       "name                       0\n",
       "player style               0\n",
       "nationality                0\n",
       "base price (in lacs)     158\n",
       "final price (in lacs)     71\n",
       "franchise                 71\n",
       "status                     0\n",
       "dtype: int64"
      ]
     },
     "execution_count": 6,
     "metadata": {},
     "output_type": "execute_result"
    }
   ],
   "source": [
    "df.isnull().sum()"
   ]
  },
  {
   "cell_type": "code",
   "execution_count": 10,
   "id": "832b4126",
   "metadata": {},
   "outputs": [
    {
     "data": {
      "text/plain": [
       "dtype('float64')"
      ]
     },
     "execution_count": 10,
     "metadata": {},
     "output_type": "execute_result"
    }
   ],
   "source": [
    "df['base price (in lacs)'].dtype"
   ]
  },
  {
   "cell_type": "code",
   "execution_count": 11,
   "id": "20487c60",
   "metadata": {},
   "outputs": [
    {
     "data": {
      "text/plain": [
       "Index(['name', 'player style', 'nationality', 'base price (in lacs)',\n",
       "       'final price (in lacs)', 'franchise', 'status'],\n",
       "      dtype='object')"
      ]
     },
     "execution_count": 11,
     "metadata": {},
     "output_type": "execute_result"
    }
   ],
   "source": [
    "df.columns"
   ]
  },
  {
   "cell_type": "code",
   "execution_count": 65,
   "id": "b511b89a",
   "metadata": {},
   "outputs": [
    {
     "name": "stdout",
     "output_type": "stream",
     "text": [
      "Player styles -->  ['Bowler' 'Batter' 'Allrounder' 'WK-Batter']\n",
      "Player styles -->  4\n"
     ]
    }
   ],
   "source": [
    "print('Player styles --> ',df['player style'].unique())\n",
    "print('Player styles --> ',df['player style'].nunique())"
   ]
  },
  {
   "cell_type": "code",
   "execution_count": 66,
   "id": "5d61af87",
   "metadata": {},
   "outputs": [
    {
     "name": "stdout",
     "output_type": "stream",
     "text": [
      "Franchises ->  ['KKR' nan 'RR' 'SRH' 'MI' 'LSG' 'DC' 'PBKS' 'CSK' 'RCB' 'GT']\n",
      "Franchises ->  10\n"
     ]
    }
   ],
   "source": [
    "print(\"Franchises -> \", df[\"franchise\"].unique())\n",
    "print(\"Franchises -> \", df[\"franchise\"].nunique())"
   ]
  },
  {
   "cell_type": "code",
   "execution_count": 67,
   "id": "a8088280",
   "metadata": {},
   "outputs": [
    {
     "name": "stdout",
     "output_type": "stream",
     "text": [
      "Players' Nationalities ->  ['India' 'South Africa' 'Bangladesh' 'England' 'West Indies' 'Sri Lanka'\n",
      " 'Afghanistan' 'Australia' 'Namibia' 'Ireland' 'Netherlands' 'New Zealand'\n",
      " 'Zimbabwe' 'Singapore']\n",
      "Players' Nationalities ->  14\n"
     ]
    }
   ],
   "source": [
    "print(\"Players' Nationalities -> \", df[\"nationality\"].unique())\n",
    "print(\"Players' Nationalities -> \", df[\"nationality\"].nunique())"
   ]
  },
  {
   "cell_type": "code",
   "execution_count": 12,
   "id": "4c6d3306",
   "metadata": {},
   "outputs": [
    {
     "data": {
      "text/html": [
       "<div>\n",
       "<style scoped>\n",
       "    .dataframe tbody tr th:only-of-type {\n",
       "        vertical-align: middle;\n",
       "    }\n",
       "\n",
       "    .dataframe tbody tr th {\n",
       "        vertical-align: top;\n",
       "    }\n",
       "\n",
       "    .dataframe thead th {\n",
       "        text-align: right;\n",
       "    }\n",
       "</style>\n",
       "<table border=\"1\" class=\"dataframe\">\n",
       "  <thead>\n",
       "    <tr style=\"text-align: right;\">\n",
       "      <th></th>\n",
       "      <th>name</th>\n",
       "      <th>player style</th>\n",
       "      <th>nationality</th>\n",
       "      <th>base price (in lacs)</th>\n",
       "      <th>final price (in lacs)</th>\n",
       "      <th>franchise</th>\n",
       "      <th>status</th>\n",
       "    </tr>\n",
       "  </thead>\n",
       "  <tbody>\n",
       "  </tbody>\n",
       "</table>\n",
       "</div>"
      ],
      "text/plain": [
       "Empty DataFrame\n",
       "Columns: [name, player style, nationality, base price (in lacs), final price (in lacs), franchise, status]\n",
       "Index: []"
      ]
     },
     "execution_count": 12,
     "metadata": {},
     "output_type": "execute_result"
    }
   ],
   "source": [
    "df.loc[df.duplicated(subset = ['name'])]"
   ]
  },
  {
   "cell_type": "markdown",
   "id": "e5562ab4",
   "metadata": {},
   "source": [
    "1.How many players are there in each playing style category (Bowler, Batter, AllRounder, WK-Batter)?\n",
    "\n"
   ]
  },
  {
   "cell_type": "code",
   "execution_count": 68,
   "id": "2275d44c",
   "metadata": {},
   "outputs": [
    {
     "data": {
      "text/plain": [
       "player style\n",
       "Bowler        111\n",
       "Allrounder    103\n",
       "Batter         55\n",
       "WK-Batter      40\n",
       "Name: count, dtype: int64"
      ]
     },
     "execution_count": 68,
     "metadata": {},
     "output_type": "execute_result"
    }
   ],
   "source": [
    "cnts = df['player style'].value_counts()\n",
    "cnts"
   ]
  },
  {
   "cell_type": "markdown",
   "id": "681435c1",
   "metadata": {},
   "source": [
    "2.Which playing style has the highest and lowest base price on average?"
   ]
  },
  {
   "cell_type": "code",
   "execution_count": 16,
   "id": "2ec05ba0",
   "metadata": {},
   "outputs": [
    {
     "name": "stdout",
     "output_type": "stream",
     "text": [
      "The playing style Batter has a the highest base price on average of 75.65 lacs \n",
      "The playing style WK-Batter has a the lowest base price on average of 45.24 lacs \n"
     ]
    }
   ],
   "source": [
    "g1=df.groupby('player style')['base price (in lacs)'].mean().idxmax()\n",
    "g2=df.groupby('player style')['base price (in lacs)'].mean().max()\n",
    "g3=df.groupby('player style')['base price (in lacs)'].mean().idxmin()\n",
    "g4=df.groupby('player style')['base price (in lacs)'].mean().min()\n",
    "\n",
    "print(f'The playing style {g1} has a the highest base price on average of {round(g2,2)} lacs ')\n",
    "print(f'The playing style {g3} has a the lowest base price on average of {round(g4,2)} lacs ')"
   ]
  },
  {
   "cell_type": "markdown",
   "id": "635208c1",
   "metadata": {},
   "source": [
    "# Franchise Analysis"
   ]
  },
  {
   "cell_type": "markdown",
   "id": "babc14ba",
   "metadata": {},
   "source": [
    "How does the average final price vary across different franchises?"
   ]
  },
  {
   "cell_type": "code",
   "execution_count": 70,
   "id": "52120be6",
   "metadata": {},
   "outputs": [
    {
     "data": {
      "text/html": [
       "<div>\n",
       "<style scoped>\n",
       "    .dataframe tbody tr th:only-of-type {\n",
       "        vertical-align: middle;\n",
       "    }\n",
       "\n",
       "    .dataframe tbody tr th {\n",
       "        vertical-align: top;\n",
       "    }\n",
       "\n",
       "    .dataframe thead th {\n",
       "        text-align: right;\n",
       "    }\n",
       "</style>\n",
       "<table border=\"1\" class=\"dataframe\">\n",
       "  <thead>\n",
       "    <tr style=\"text-align: right;\">\n",
       "      <th></th>\n",
       "      <th>franchise</th>\n",
       "      <th>final price (in lacs)</th>\n",
       "    </tr>\n",
       "  </thead>\n",
       "  <tbody>\n",
       "    <tr>\n",
       "      <th>0</th>\n",
       "      <td>KKR</td>\n",
       "      <td>337.368421</td>\n",
       "    </tr>\n",
       "    <tr>\n",
       "      <th>1</th>\n",
       "      <td>SRH</td>\n",
       "      <td>353.800000</td>\n",
       "    </tr>\n",
       "    <tr>\n",
       "      <th>2</th>\n",
       "      <td>DC</td>\n",
       "      <td>361.875000</td>\n",
       "    </tr>\n",
       "    <tr>\n",
       "      <th>3</th>\n",
       "      <td>GT</td>\n",
       "      <td>362.200000</td>\n",
       "    </tr>\n",
       "    <tr>\n",
       "      <th>4</th>\n",
       "      <td>LSG</td>\n",
       "      <td>362.600000</td>\n",
       "    </tr>\n",
       "    <tr>\n",
       "      <th>5</th>\n",
       "      <td>RR</td>\n",
       "      <td>366.600000</td>\n",
       "    </tr>\n",
       "    <tr>\n",
       "      <th>6</th>\n",
       "      <td>RCB</td>\n",
       "      <td>373.000000</td>\n",
       "    </tr>\n",
       "    <tr>\n",
       "      <th>7</th>\n",
       "      <td>CSK</td>\n",
       "      <td>374.000000</td>\n",
       "    </tr>\n",
       "    <tr>\n",
       "      <th>8</th>\n",
       "      <td>PBKS</td>\n",
       "      <td>376.363636</td>\n",
       "    </tr>\n",
       "    <tr>\n",
       "      <th>9</th>\n",
       "      <td>MI</td>\n",
       "      <td>409.565217</td>\n",
       "    </tr>\n",
       "  </tbody>\n",
       "</table>\n",
       "</div>"
      ],
      "text/plain": [
       "  franchise  final price (in lacs)\n",
       "0       KKR             337.368421\n",
       "1       SRH             353.800000\n",
       "2        DC             361.875000\n",
       "3        GT             362.200000\n",
       "4       LSG             362.600000\n",
       "5        RR             366.600000\n",
       "6       RCB             373.000000\n",
       "7       CSK             374.000000\n",
       "8      PBKS             376.363636\n",
       "9        MI             409.565217"
      ]
     },
     "execution_count": 70,
     "metadata": {},
     "output_type": "execute_result"
    }
   ],
   "source": [
    "grp1 = df.groupby('franchise')['final price (in lacs)'].mean().sort_values().reset_index()\n",
    "grp1"
   ]
  },
  {
   "cell_type": "code",
   "execution_count": 71,
   "id": "750df504",
   "metadata": {},
   "outputs": [
    {
     "data": {
      "text/plain": [
       "franchise\n",
       "KKR     1\n",
       "SRH     1\n",
       "DC      1\n",
       "GT      1\n",
       "LSG     1\n",
       "RR      1\n",
       "RCB     1\n",
       "CSK     1\n",
       "PBKS    1\n",
       "MI      1\n",
       "Name: count, dtype: int64"
      ]
     },
     "execution_count": 71,
     "metadata": {},
     "output_type": "execute_result"
    }
   ],
   "source": [
    "grp1['franchise'].value_counts()"
   ]
  },
  {
   "cell_type": "code",
   "execution_count": 72,
   "id": "2fb0fd1f",
   "metadata": {},
   "outputs": [
    {
     "data": {
      "text/plain": [
       "array(['KKR', 'SRH', 'DC', 'GT', 'LSG', 'RR', 'RCB', 'CSK', 'PBKS', 'MI'],\n",
       "      dtype=object)"
      ]
     },
     "execution_count": 72,
     "metadata": {},
     "output_type": "execute_result"
    }
   ],
   "source": [
    "grp1['franchise'].values"
   ]
  },
  {
   "cell_type": "code",
   "execution_count": 75,
   "id": "6d8e46ea",
   "metadata": {},
   "outputs": [
    {
     "data": {
      "image/png": "[encoded data removed]",
      "text/plain": [
       "<Figure size 640x480 with 1 Axes>"
      ]
     },
     "metadata": {},
     "output_type": "display_data"
    }
   ],
   "source": [
    "sns.histplot(df['franchise'])\n",
    "plt.title('Distribution of different franchise')\n",
    "plt.xlabel('franchises')\n",
    "plt.ylabel('Count')\n",
    "\n",
    "plt.show()"
   ]
  },
  {
   "cell_type": "code",
   "execution_count": 73,
   "id": "6f986c44",
   "metadata": {},
   "outputs": [
    {
     "data": {
      "image/png": "[encoded data removed]",
      "text/plain": [
       "<Figure size 640x480 with 1 Axes>"
      ]
     },
     "metadata": {},
     "output_type": "display_data"
    }
   ],
   "source": [
    "plt.bar(grp1['franchise'],grp1['final price (in lacs)'])\n",
    "plt.show()"
   ]
  },
  {
   "cell_type": "code",
   "execution_count": 74,
   "id": "657cc127",
   "metadata": {},
   "outputs": [
    {
     "data": {
      "text/plain": [
       "([<matplotlib.patches.Wedge at 0x2c55aee23d0>,\n",
       "  <matplotlib.patches.Wedge at 0x2c55b05ae10>,\n",
       "  <matplotlib.patches.Wedge at 0x2c55a6f5c50>,\n",
       "  <matplotlib.patches.Wedge at 0x2c55a6f6b90>,\n",
       "  <matplotlib.patches.Wedge at 0x2c55affa210>,\n",
       "  <matplotlib.patches.Wedge at 0x2c55ac1e690>,\n",
       "  <matplotlib.patches.Wedge at 0x2c55aef1f50>,\n",
       "  <matplotlib.patches.Wedge at 0x2c55aef9750>,\n",
       "  <matplotlib.patches.Wedge at 0x2c55affac10>,\n",
       "  <matplotlib.patches.Wedge at 0x2c55addacd0>],\n",
       " [Text(1.0546280314543328, 0.31266550060849196, 'KKR'),\n",
       "  Text(0.7019824218813635, 0.8468888235002134, 'SRH'),\n",
       "  Text(0.08868442290407308, 1.0964192050188521, 'DC'),\n",
       "  Text(-0.5635388212863147, 0.9446819554237454, 'GT'),\n",
       "  Text(-1.0071917771626997, 0.44222700507300866, 'LSG'),\n",
       "  Text(-1.0760099408021389, -0.22847889901471777, 'RR'),\n",
       "  Text(-0.7333286622153347, -0.8198957697009223, 'RCB'),\n",
       "  Text(-0.10057217693135774, -1.0953927319584003, 'CSK'),\n",
       "  Text(0.574469449228249, -0.9380750779673195, 'PBKS'),\n",
       "  Text(1.315173101062213, -0.47991636171566654, 'MI')],\n",
       " [Text(0.5752516535205451, 0.17054481851372286, '9.17'),\n",
       "  Text(0.38289950284438007, 0.46193935827284366, '9.62'),\n",
       "  Text(0.04837332158403986, 0.598046839101192, '9.84'),\n",
       "  Text(-0.3073848116107171, 0.5152810665947701, '9.85'),\n",
       "  Text(-0.5493773329978361, 0.24121473003982288, '9.86'),\n",
       "  Text(-0.5869145131648029, -0.12462485400802786, '9.97'),\n",
       "  Text(-0.39999745211745524, -0.4472158743823212, '10.14'),\n",
       "  Text(-0.05485755105346785, -0.597486944704582, '10.17'),\n",
       "  Text(0.31334697230631764, -0.5116773152549015, '10.23'),\n",
       "  Text(0.8454684221114225, -0.3085176611029285, '11.14')])"
      ]
     },
     "execution_count": 74,
     "metadata": {},
     "output_type": "execute_result"
    },
    {
     "data": {
      "image/png": "[encoded data removed]",
      "text/plain": [
       "<Figure size 640x480 with 1 Axes>"
      ]
     },
     "metadata": {},
     "output_type": "display_data"
    }
   ],
   "source": [
    "plt.pie(grp1['final price (in lacs)'],labels = ['KKR', 'SRH', 'DC', 'GT', 'LSG', 'RR', 'RCB', 'CSK', 'PBKS', 'MI'],autopct = '%.2f',explode=[0,0,0,0,0,0,0,0,0,.3],shadow = True)"
   ]
  },
  {
   "cell_type": "markdown",
   "id": "e686819c",
   "metadata": {},
   "source": [
    "Which franchises have retained the most players?\n",
    "\n"
   ]
  },
  {
   "cell_type": "code",
   "execution_count": 39,
   "id": "43e29f15",
   "metadata": {},
   "outputs": [
    {
     "data": {
      "text/plain": [
       "franchise    SRH\n",
       "count         19\n",
       "dtype: object"
      ]
     },
     "execution_count": 39,
     "metadata": {},
     "output_type": "execute_result"
    }
   ],
   "source": [
    "st=df.groupby('status')['franchise'].value_counts()\n",
    "st1=st.loc['RETAINED'].reset_index()\n",
    "st1.max()"
   ]
  },
  {
   "cell_type": "markdown",
   "id": "db4b9744",
   "metadata": {},
   "source": [
    "# Player Prices"
   ]
  },
  {
   "cell_type": "markdown",
   "id": "df477132",
   "metadata": {},
   "source": [
    "What is the average base price and final price of players across different nationalities?"
   ]
  },
  {
   "cell_type": "code",
   "execution_count": 40,
   "id": "e31657eb",
   "metadata": {},
   "outputs": [
    {
     "data": {
      "text/plain": [
       "Index(['name', 'player style', 'nationality', 'base price (in lacs)',\n",
       "       'final price (in lacs)', 'franchise', 'status'],\n",
       "      dtype='object')"
      ]
     },
     "execution_count": 40,
     "metadata": {},
     "output_type": "execute_result"
    }
   ],
   "source": [
    "df.columns"
   ]
  },
  {
   "cell_type": "code",
   "execution_count": 41,
   "id": "de3be519",
   "metadata": {},
   "outputs": [
    {
     "data": {
      "text/html": [
       "<div>\n",
       "<style scoped>\n",
       "    .dataframe tbody tr th:only-of-type {\n",
       "        vertical-align: middle;\n",
       "    }\n",
       "\n",
       "    .dataframe tbody tr th {\n",
       "        vertical-align: top;\n",
       "    }\n",
       "\n",
       "    .dataframe thead th {\n",
       "        text-align: right;\n",
       "    }\n",
       "</style>\n",
       "<table border=\"1\" class=\"dataframe\">\n",
       "  <thead>\n",
       "    <tr style=\"text-align: right;\">\n",
       "      <th></th>\n",
       "      <th>base price (in lacs)</th>\n",
       "      <th>final price (in lacs)</th>\n",
       "    </tr>\n",
       "    <tr>\n",
       "      <th>nationality</th>\n",
       "      <th></th>\n",
       "      <th></th>\n",
       "    </tr>\n",
       "  </thead>\n",
       "  <tbody>\n",
       "    <tr>\n",
       "      <th>Afghanistan</th>\n",
       "      <td>67.500000</td>\n",
       "      <td>407.500000</td>\n",
       "    </tr>\n",
       "    <tr>\n",
       "      <th>Australia</th>\n",
       "      <td>136.428571</td>\n",
       "      <td>591.818182</td>\n",
       "    </tr>\n",
       "    <tr>\n",
       "      <th>Bangladesh</th>\n",
       "      <td>83.333333</td>\n",
       "      <td>133.333333</td>\n",
       "    </tr>\n",
       "    <tr>\n",
       "      <th>England</th>\n",
       "      <td>136.470588</td>\n",
       "      <td>745.666667</td>\n",
       "    </tr>\n",
       "    <tr>\n",
       "      <th>India</th>\n",
       "      <td>25.444444</td>\n",
       "      <td>323.456790</td>\n",
       "    </tr>\n",
       "    <tr>\n",
       "      <th>Ireland</th>\n",
       "      <td>50.000000</td>\n",
       "      <td>440.000000</td>\n",
       "    </tr>\n",
       "    <tr>\n",
       "      <th>Namibia</th>\n",
       "      <td>100.000000</td>\n",
       "      <td>100.000000</td>\n",
       "    </tr>\n",
       "    <tr>\n",
       "      <th>Netherlands</th>\n",
       "      <td>20.000000</td>\n",
       "      <td>NaN</td>\n",
       "    </tr>\n",
       "    <tr>\n",
       "      <th>New Zealand</th>\n",
       "      <td>160.000000</td>\n",
       "      <td>221.250000</td>\n",
       "    </tr>\n",
       "    <tr>\n",
       "      <th>Singapore</th>\n",
       "      <td>NaN</td>\n",
       "      <td>825.000000</td>\n",
       "    </tr>\n",
       "    <tr>\n",
       "      <th>South Africa</th>\n",
       "      <td>91.875000</td>\n",
       "      <td>360.333333</td>\n",
       "    </tr>\n",
       "    <tr>\n",
       "      <th>Sri Lanka</th>\n",
       "      <td>50.000000</td>\n",
       "      <td>303.750000</td>\n",
       "    </tr>\n",
       "    <tr>\n",
       "      <th>West Indies</th>\n",
       "      <td>114.285714</td>\n",
       "      <td>472.500000</td>\n",
       "    </tr>\n",
       "    <tr>\n",
       "      <th>Zimbabwe</th>\n",
       "      <td>50.000000</td>\n",
       "      <td>50.000000</td>\n",
       "    </tr>\n",
       "  </tbody>\n",
       "</table>\n",
       "</div>"
      ],
      "text/plain": [
       "              base price (in lacs)  final price (in lacs)\n",
       "nationality                                              \n",
       "Afghanistan              67.500000             407.500000\n",
       "Australia               136.428571             591.818182\n",
       "Bangladesh               83.333333             133.333333\n",
       "England                 136.470588             745.666667\n",
       "India                    25.444444             323.456790\n",
       "Ireland                  50.000000             440.000000\n",
       "Namibia                 100.000000             100.000000\n",
       "Netherlands              20.000000                    NaN\n",
       "New Zealand             160.000000             221.250000\n",
       "Singapore                      NaN             825.000000\n",
       "South Africa             91.875000             360.333333\n",
       "Sri Lanka                50.000000             303.750000\n",
       "West Indies             114.285714             472.500000\n",
       "Zimbabwe                 50.000000              50.000000"
      ]
     },
     "execution_count": 41,
     "metadata": {},
     "output_type": "execute_result"
    }
   ],
   "source": [
    "df_pp = df.groupby('nationality')[['base price (in lacs)','final price (in lacs)']].mean()\n",
    "\n",
    "df_pp"
   ]
  },
  {
   "cell_type": "code",
   "execution_count": 45,
   "id": "c44138d3",
   "metadata": {},
   "outputs": [
    {
     "data": {
      "text/plain": [
       "14"
      ]
     },
     "execution_count": 45,
     "metadata": {},
     "output_type": "execute_result"
    }
   ],
   "source": [
    "df['nationality'].nunique()"
   ]
  },
  {
   "cell_type": "code",
   "execution_count": 46,
   "id": "33ebad83",
   "metadata": {},
   "outputs": [
    {
     "data": {
      "text/plain": [
       "name                     1\n",
       "player style             1\n",
       "nationality              1\n",
       "base price (in lacs)     0\n",
       "final price (in lacs)    1\n",
       "franchise                1\n",
       "status                   1\n",
       "dtype: int64"
      ]
     },
     "execution_count": 46,
     "metadata": {},
     "output_type": "execute_result"
    }
   ],
   "source": [
    "df[df['nationality'] == 'Singapore']"
   ]
  },
  {
   "cell_type": "code",
   "execution_count": 49,
   "id": "28402a47",
   "metadata": {},
   "outputs": [
    {
     "data": {
      "text/plain": [
       "name                     201\n",
       "player style               4\n",
       "nationality                1\n",
       "base price (in lacs)       5\n",
       "final price (in lacs)     54\n",
       "franchise                 10\n",
       "status                     3\n",
       "dtype: int64"
      ]
     },
     "execution_count": 49,
     "metadata": {},
     "output_type": "execute_result"
    }
   ],
   "source": [
    "df[df['nationality'] == 'India'].nunique()"
   ]
  },
  {
   "cell_type": "markdown",
   "id": "f9a5dbb1",
   "metadata": {},
   "source": [
    "How many players remained unsold, and what was their average base price?"
   ]
  },
  {
   "cell_type": "code",
   "execution_count": 51,
   "id": "d623d49f",
   "metadata": {},
   "outputs": [
    {
     "data": {
      "text/html": [
       "<div>\n",
       "<style scoped>\n",
       "    .dataframe tbody tr th:only-of-type {\n",
       "        vertical-align: middle;\n",
       "    }\n",
       "\n",
       "    .dataframe tbody tr th {\n",
       "        vertical-align: top;\n",
       "    }\n",
       "\n",
       "    .dataframe thead th {\n",
       "        text-align: right;\n",
       "    }\n",
       "</style>\n",
       "<table border=\"1\" class=\"dataframe\">\n",
       "  <thead>\n",
       "    <tr style=\"text-align: right;\">\n",
       "      <th></th>\n",
       "      <th>name</th>\n",
       "      <th>player style</th>\n",
       "      <th>nationality</th>\n",
       "      <th>base price (in lacs)</th>\n",
       "      <th>final price (in lacs)</th>\n",
       "      <th>franchise</th>\n",
       "      <th>status</th>\n",
       "    </tr>\n",
       "  </thead>\n",
       "  <tbody>\n",
       "    <tr>\n",
       "      <th>1</th>\n",
       "      <td>Ekant Sen</td>\n",
       "      <td>Batter</td>\n",
       "      <td>India</td>\n",
       "      <td>20.0</td>\n",
       "      <td>NaN</td>\n",
       "      <td>NaN</td>\n",
       "      <td>UNSOLD</td>\n",
       "    </tr>\n",
       "    <tr>\n",
       "      <th>2</th>\n",
       "      <td>Wayne Parnell</td>\n",
       "      <td>Allrounder</td>\n",
       "      <td>South Africa</td>\n",
       "      <td>75.0</td>\n",
       "      <td>NaN</td>\n",
       "      <td>NaN</td>\n",
       "      <td>UNSOLD</td>\n",
       "    </tr>\n",
       "    <tr>\n",
       "      <th>6</th>\n",
       "      <td>Prashant Chopra</td>\n",
       "      <td>Allrounder</td>\n",
       "      <td>India</td>\n",
       "      <td>20.0</td>\n",
       "      <td>NaN</td>\n",
       "      <td>NaN</td>\n",
       "      <td>UNSOLD</td>\n",
       "    </tr>\n",
       "    <tr>\n",
       "      <th>10</th>\n",
       "      <td>Luke Wood</td>\n",
       "      <td>Bowler</td>\n",
       "      <td>England</td>\n",
       "      <td>100.0</td>\n",
       "      <td>NaN</td>\n",
       "      <td>NaN</td>\n",
       "      <td>UNSOLD</td>\n",
       "    </tr>\n",
       "    <tr>\n",
       "      <th>11</th>\n",
       "      <td>Dilshan Madushanka</td>\n",
       "      <td>Bowler</td>\n",
       "      <td>Sri Lanka</td>\n",
       "      <td>50.0</td>\n",
       "      <td>NaN</td>\n",
       "      <td>NaN</td>\n",
       "      <td>UNSOLD</td>\n",
       "    </tr>\n",
       "    <tr>\n",
       "      <th>...</th>\n",
       "      <td>...</td>\n",
       "      <td>...</td>\n",
       "      <td>...</td>\n",
       "      <td>...</td>\n",
       "      <td>...</td>\n",
       "      <td>...</td>\n",
       "      <td>...</td>\n",
       "    </tr>\n",
       "    <tr>\n",
       "      <th>137</th>\n",
       "      <td>Mujeeb Ur Rahman</td>\n",
       "      <td>Bowler</td>\n",
       "      <td>Afghanistan</td>\n",
       "      <td>100.0</td>\n",
       "      <td>NaN</td>\n",
       "      <td>NaN</td>\n",
       "      <td>UNSOLD</td>\n",
       "    </tr>\n",
       "    <tr>\n",
       "      <th>138</th>\n",
       "      <td>Tabraiz Shamsi</td>\n",
       "      <td>Bowler</td>\n",
       "      <td>South Africa</td>\n",
       "      <td>100.0</td>\n",
       "      <td>NaN</td>\n",
       "      <td>NaN</td>\n",
       "      <td>UNSOLD</td>\n",
       "    </tr>\n",
       "    <tr>\n",
       "      <th>141</th>\n",
       "      <td>Adam Milne</td>\n",
       "      <td>Bowler</td>\n",
       "      <td>New Zealand</td>\n",
       "      <td>200.0</td>\n",
       "      <td>NaN</td>\n",
       "      <td>NaN</td>\n",
       "      <td>UNSOLD</td>\n",
       "    </tr>\n",
       "    <tr>\n",
       "      <th>143</th>\n",
       "      <td>Chris Jordan</td>\n",
       "      <td>Bowler</td>\n",
       "      <td>England</td>\n",
       "      <td>200.0</td>\n",
       "      <td>NaN</td>\n",
       "      <td>NaN</td>\n",
       "      <td>UNSOLD</td>\n",
       "    </tr>\n",
       "    <tr>\n",
       "      <th>145</th>\n",
       "      <td>Tom Banton</td>\n",
       "      <td>WK-Batter</td>\n",
       "      <td>England</td>\n",
       "      <td>200.0</td>\n",
       "      <td>NaN</td>\n",
       "      <td>NaN</td>\n",
       "      <td>UNSOLD</td>\n",
       "    </tr>\n",
       "  </tbody>\n",
       "</table>\n",
       "<p>71 rows × 7 columns</p>\n",
       "</div>"
      ],
      "text/plain": [
       "                   name player style   nationality  base price (in lacs)  \\\n",
       "1             Ekant Sen       Batter         India                  20.0   \n",
       "2         Wayne Parnell   Allrounder  South Africa                  75.0   \n",
       "6       Prashant Chopra   Allrounder         India                  20.0   \n",
       "10            Luke Wood       Bowler       England                 100.0   \n",
       "11   Dilshan Madushanka       Bowler     Sri Lanka                  50.0   \n",
       "..                  ...          ...           ...                   ...   \n",
       "137    Mujeeb Ur Rahman       Bowler   Afghanistan                 100.0   \n",
       "138      Tabraiz Shamsi       Bowler  South Africa                 100.0   \n",
       "141          Adam Milne       Bowler   New Zealand                 200.0   \n",
       "143        Chris Jordan       Bowler       England                 200.0   \n",
       "145          Tom Banton    WK-Batter       England                 200.0   \n",
       "\n",
       "     final price (in lacs) franchise  status  \n",
       "1                      NaN       NaN  UNSOLD  \n",
       "2                      NaN       NaN  UNSOLD  \n",
       "6                      NaN       NaN  UNSOLD  \n",
       "10                     NaN       NaN  UNSOLD  \n",
       "11                     NaN       NaN  UNSOLD  \n",
       "..                     ...       ...     ...  \n",
       "137                    NaN       NaN  UNSOLD  \n",
       "138                    NaN       NaN  UNSOLD  \n",
       "141                    NaN       NaN  UNSOLD  \n",
       "143                    NaN       NaN  UNSOLD  \n",
       "145                    NaN       NaN  UNSOLD  \n",
       "\n",
       "[71 rows x 7 columns]"
      ]
     },
     "execution_count": 51,
     "metadata": {},
     "output_type": "execute_result"
    }
   ],
   "source": [
    "df[df['status'] == 'UNSOLD'] #-->71 unsold players"
   ]
  },
  {
   "cell_type": "code",
   "execution_count": 78,
   "id": "c5990831",
   "metadata": {},
   "outputs": [
    {
     "data": {
      "image/png": "[encoded data removed]",
      "text/plain": [
       "<Figure size 800x600 with 1 Axes>"
      ]
     },
     "metadata": {},
     "output_type": "display_data"
    }
   ],
   "source": [
    "plt.figure(figsize = (8,6))\n",
    "\n",
    "plt.scatter(df['base price (in lacs)'],df['final price (in lacs)'],color = 'red',alpha = 0.4)\n",
    "plt.title('Scatter plot between base price and final price')\n",
    "plt.xlabel('Base price (in lacs)')\n",
    "plt.ylabel('final price (in lacs)')\n",
    "\n",
    "plt.show()"
   ]
  },
  {
   "cell_type": "code",
   "execution_count": 81,
   "id": "ea50446a",
   "metadata": {},
   "outputs": [
    {
     "data": {
      "text/html": [
       "<div>\n",
       "<style scoped>\n",
       "    .dataframe tbody tr th:only-of-type {\n",
       "        vertical-align: middle;\n",
       "    }\n",
       "\n",
       "    .dataframe tbody tr th {\n",
       "        vertical-align: top;\n",
       "    }\n",
       "\n",
       "    .dataframe thead th {\n",
       "        text-align: right;\n",
       "    }\n",
       "</style>\n",
       "<table border=\"1\" class=\"dataframe\">\n",
       "  <thead>\n",
       "    <tr style=\"text-align: right;\">\n",
       "      <th></th>\n",
       "      <th>name</th>\n",
       "      <th>player style</th>\n",
       "      <th>nationality</th>\n",
       "      <th>base price (in lacs)</th>\n",
       "      <th>final price (in lacs)</th>\n",
       "      <th>franchise</th>\n",
       "      <th>status</th>\n",
       "    </tr>\n",
       "  </thead>\n",
       "  <tbody>\n",
       "    <tr>\n",
       "      <th>0</th>\n",
       "      <td>Harshit Rana</td>\n",
       "      <td>Bowler</td>\n",
       "      <td>India</td>\n",
       "      <td>NaN</td>\n",
       "      <td>20.0</td>\n",
       "      <td>KKR</td>\n",
       "      <td>RETAINED</td>\n",
       "    </tr>\n",
       "    <tr>\n",
       "      <th>152</th>\n",
       "      <td>Rajat Patidar</td>\n",
       "      <td>Batter</td>\n",
       "      <td>India</td>\n",
       "      <td>NaN</td>\n",
       "      <td>20.0</td>\n",
       "      <td>RCB</td>\n",
       "      <td>RETAINED</td>\n",
       "    </tr>\n",
       "    <tr>\n",
       "      <th>153</th>\n",
       "      <td>Matheesha Pathirana</td>\n",
       "      <td>Bowler</td>\n",
       "      <td>Sri Lanka</td>\n",
       "      <td>NaN</td>\n",
       "      <td>20.0</td>\n",
       "      <td>CSK</td>\n",
       "      <td>RETAINED</td>\n",
       "    </tr>\n",
       "    <tr>\n",
       "      <th>154</th>\n",
       "      <td>Tristan Stubbs</td>\n",
       "      <td>WK-Batter</td>\n",
       "      <td>South Africa</td>\n",
       "      <td>NaN</td>\n",
       "      <td>20.0</td>\n",
       "      <td>MI</td>\n",
       "      <td>RETAINED</td>\n",
       "    </tr>\n",
       "    <tr>\n",
       "      <th>155</th>\n",
       "      <td>Ravi Bishnoi</td>\n",
       "      <td>Bowler</td>\n",
       "      <td>India</td>\n",
       "      <td>NaN</td>\n",
       "      <td>400.0</td>\n",
       "      <td>LSG</td>\n",
       "      <td>RETAINED</td>\n",
       "    </tr>\n",
       "    <tr>\n",
       "      <th>...</th>\n",
       "      <td>...</td>\n",
       "      <td>...</td>\n",
       "      <td>...</td>\n",
       "      <td>...</td>\n",
       "      <td>...</td>\n",
       "      <td>...</td>\n",
       "      <td>...</td>\n",
       "    </tr>\n",
       "    <tr>\n",
       "      <th>304</th>\n",
       "      <td>MS Dhoni</td>\n",
       "      <td>WK-Batter</td>\n",
       "      <td>India</td>\n",
       "      <td>NaN</td>\n",
       "      <td>1200.0</td>\n",
       "      <td>CSK</td>\n",
       "      <td>RETAINED</td>\n",
       "    </tr>\n",
       "    <tr>\n",
       "      <th>305</th>\n",
       "      <td>Moeen Ali</td>\n",
       "      <td>Allrounder</td>\n",
       "      <td>England</td>\n",
       "      <td>NaN</td>\n",
       "      <td>800.0</td>\n",
       "      <td>CSK</td>\n",
       "      <td>RETAINED</td>\n",
       "    </tr>\n",
       "    <tr>\n",
       "      <th>306</th>\n",
       "      <td>Ruturaj Gaikwad</td>\n",
       "      <td>Batter</td>\n",
       "      <td>India</td>\n",
       "      <td>NaN</td>\n",
       "      <td>600.0</td>\n",
       "      <td>CSK</td>\n",
       "      <td>RETAINED</td>\n",
       "    </tr>\n",
       "    <tr>\n",
       "      <th>307</th>\n",
       "      <td>Rishabh Pant</td>\n",
       "      <td>WK-Batter</td>\n",
       "      <td>India</td>\n",
       "      <td>NaN</td>\n",
       "      <td>1600.0</td>\n",
       "      <td>DC</td>\n",
       "      <td>RETAINED</td>\n",
       "    </tr>\n",
       "    <tr>\n",
       "      <th>308</th>\n",
       "      <td>Axar Patel</td>\n",
       "      <td>Allrounder</td>\n",
       "      <td>India</td>\n",
       "      <td>NaN</td>\n",
       "      <td>900.0</td>\n",
       "      <td>DC</td>\n",
       "      <td>RETAINED</td>\n",
       "    </tr>\n",
       "  </tbody>\n",
       "</table>\n",
       "<p>158 rows × 7 columns</p>\n",
       "</div>"
      ],
      "text/plain": [
       "                    name player style   nationality  base price (in lacs)  \\\n",
       "0           Harshit Rana       Bowler         India                   NaN   \n",
       "152        Rajat Patidar       Batter         India                   NaN   \n",
       "153  Matheesha Pathirana       Bowler     Sri Lanka                   NaN   \n",
       "154       Tristan Stubbs    WK-Batter  South Africa                   NaN   \n",
       "155         Ravi Bishnoi       Bowler         India                   NaN   \n",
       "..                   ...          ...           ...                   ...   \n",
       "304             MS Dhoni    WK-Batter         India                   NaN   \n",
       "305            Moeen Ali   Allrounder       England                   NaN   \n",
       "306      Ruturaj Gaikwad       Batter         India                   NaN   \n",
       "307         Rishabh Pant    WK-Batter         India                   NaN   \n",
       "308           Axar Patel   Allrounder         India                   NaN   \n",
       "\n",
       "     final price (in lacs) franchise    status  \n",
       "0                     20.0       KKR  RETAINED  \n",
       "152                   20.0       RCB  RETAINED  \n",
       "153                   20.0       CSK  RETAINED  \n",
       "154                   20.0        MI  RETAINED  \n",
       "155                  400.0       LSG  RETAINED  \n",
       "..                     ...       ...       ...  \n",
       "304                 1200.0       CSK  RETAINED  \n",
       "305                  800.0       CSK  RETAINED  \n",
       "306                  600.0       CSK  RETAINED  \n",
       "307                 1600.0        DC  RETAINED  \n",
       "308                  900.0        DC  RETAINED  \n",
       "\n",
       "[158 rows x 7 columns]"
      ]
     },
     "execution_count": 81,
     "metadata": {},
     "output_type": "execute_result"
    }
   ],
   "source": [
    "df_proc = df[df[\"base price (in lacs)\"].isna()]\n",
    "DF = df_proc[df_proc['status'] == 'RETAINED']\n",
    "DF #158 players are retained hence their base price is NaN"
   ]
  },
  {
   "cell_type": "code",
   "execution_count": 76,
   "id": "d03b4acc",
   "metadata": {},
   "outputs": [
    {
     "ename": "KeyError",
     "evalue": "'nationality'",
     "output_type": "error",
     "traceback": [
      "\u001b[1;31m---------------------------------------------------------------------------\u001b[0m",
      "\u001b[1;31mKeyError\u001b[0m                                  Traceback (most recent call last)",
      "File \u001b[1;32m~\\anaconda3\\Lib\\site-packages\\pandas\\core\\indexes\\base.py:3653\u001b[0m, in \u001b[0;36mIndex.get_loc\u001b[1;34m(self, key)\u001b[0m\n\u001b[0;32m   3652\u001b[0m \u001b[38;5;28;01mtry\u001b[39;00m:\n\u001b[1;32m-> 3653\u001b[0m     \u001b[38;5;28;01mreturn\u001b[39;00m \u001b[38;5;28mself\u001b[39m\u001b[38;5;241m.\u001b[39m_engine\u001b[38;5;241m.\u001b[39mget_loc(casted_key)\n\u001b[0;32m   3654\u001b[0m \u001b[38;5;28;01mexcept\u001b[39;00m \u001b[38;5;167;01mKeyError\u001b[39;00m \u001b[38;5;28;01mas\u001b[39;00m err:\n",
      "File \u001b[1;32m~\\anaconda3\\Lib\\site-packages\\pandas\\_libs\\index.pyx:147\u001b[0m, in \u001b[0;36mpandas._libs.index.IndexEngine.get_loc\u001b[1;34m()\u001b[0m\n",
      "File \u001b[1;32m~\\anaconda3\\Lib\\site-packages\\pandas\\_libs\\index.pyx:176\u001b[0m, in \u001b[0;36mpandas._libs.index.IndexEngine.get_loc\u001b[1;34m()\u001b[0m\n",
      "File \u001b[1;32mpandas\\_libs\\hashtable_class_helper.pxi:7080\u001b[0m, in \u001b[0;36mpandas._libs.hashtable.PyObjectHashTable.get_item\u001b[1;34m()\u001b[0m\n",
      "File \u001b[1;32mpandas\\_libs\\hashtable_class_helper.pxi:7088\u001b[0m, in \u001b[0;36mpandas._libs.hashtable.PyObjectHashTable.get_item\u001b[1;34m()\u001b[0m\n",
      "\u001b[1;31mKeyError\u001b[0m: 'nationality'",
      "\nThe above exception was the direct cause of the following exception:\n",
      "\u001b[1;31mKeyError\u001b[0m                                  Traceback (most recent call last)",
      "Cell \u001b[1;32mIn[76], line 1\u001b[0m\n\u001b[1;32m----> 1\u001b[0m x_\u001b[38;5;241m=\u001b[39mnat[\u001b[38;5;124m'\u001b[39m\u001b[38;5;124mnationality\u001b[39m\u001b[38;5;124m'\u001b[39m]\n\u001b[0;32m      2\u001b[0m y_\u001b[38;5;241m=\u001b[39mnat[\u001b[38;5;124m'\u001b[39m\u001b[38;5;124mbase price (in lacs)\u001b[39m\u001b[38;5;124m'\u001b[39m]\n\u001b[0;32m      3\u001b[0m y1\u001b[38;5;241m=\u001b[39mnat[\u001b[38;5;124m'\u001b[39m\u001b[38;5;124mfinal price (in lacs)\u001b[39m\u001b[38;5;124m'\u001b[39m]\n",
      "File \u001b[1;32m~\\anaconda3\\Lib\\site-packages\\pandas\\core\\frame.py:3761\u001b[0m, in \u001b[0;36mDataFrame.__getitem__\u001b[1;34m(self, key)\u001b[0m\n\u001b[0;32m   3759\u001b[0m \u001b[38;5;28;01mif\u001b[39;00m \u001b[38;5;28mself\u001b[39m\u001b[38;5;241m.\u001b[39mcolumns\u001b[38;5;241m.\u001b[39mnlevels \u001b[38;5;241m>\u001b[39m \u001b[38;5;241m1\u001b[39m:\n\u001b[0;32m   3760\u001b[0m     \u001b[38;5;28;01mreturn\u001b[39;00m \u001b[38;5;28mself\u001b[39m\u001b[38;5;241m.\u001b[39m_getitem_multilevel(key)\n\u001b[1;32m-> 3761\u001b[0m indexer \u001b[38;5;241m=\u001b[39m \u001b[38;5;28mself\u001b[39m\u001b[38;5;241m.\u001b[39mcolumns\u001b[38;5;241m.\u001b[39mget_loc(key)\n\u001b[0;32m   3762\u001b[0m \u001b[38;5;28;01mif\u001b[39;00m is_integer(indexer):\n\u001b[0;32m   3763\u001b[0m     indexer \u001b[38;5;241m=\u001b[39m [indexer]\n",
      "File \u001b[1;32m~\\anaconda3\\Lib\\site-packages\\pandas\\core\\indexes\\base.py:3655\u001b[0m, in \u001b[0;36mIndex.get_loc\u001b[1;34m(self, key)\u001b[0m\n\u001b[0;32m   3653\u001b[0m     \u001b[38;5;28;01mreturn\u001b[39;00m \u001b[38;5;28mself\u001b[39m\u001b[38;5;241m.\u001b[39m_engine\u001b[38;5;241m.\u001b[39mget_loc(casted_key)\n\u001b[0;32m   3654\u001b[0m \u001b[38;5;28;01mexcept\u001b[39;00m \u001b[38;5;167;01mKeyError\u001b[39;00m \u001b[38;5;28;01mas\u001b[39;00m err:\n\u001b[1;32m-> 3655\u001b[0m     \u001b[38;5;28;01mraise\u001b[39;00m \u001b[38;5;167;01mKeyError\u001b[39;00m(key) \u001b[38;5;28;01mfrom\u001b[39;00m \u001b[38;5;21;01merr\u001b[39;00m\n\u001b[0;32m   3656\u001b[0m \u001b[38;5;28;01mexcept\u001b[39;00m \u001b[38;5;167;01mTypeError\u001b[39;00m:\n\u001b[0;32m   3657\u001b[0m     \u001b[38;5;66;03m# If we have a listlike key, _check_indexing_error will raise\u001b[39;00m\n\u001b[0;32m   3658\u001b[0m     \u001b[38;5;66;03m#  InvalidIndexError. Otherwise we fall through and re-raise\u001b[39;00m\n\u001b[0;32m   3659\u001b[0m     \u001b[38;5;66;03m#  the TypeError.\u001b[39;00m\n\u001b[0;32m   3660\u001b[0m     \u001b[38;5;28mself\u001b[39m\u001b[38;5;241m.\u001b[39m_check_indexing_error(key)\n",
      "\u001b[1;31mKeyError\u001b[0m: 'nationality'"
     ]
    }
   ],
   "source": [
    "x_=nat['nationality']\n",
    "y_=nat['base price (in lacs)']\n",
    "y1=nat['final price (in lacs)']\n",
    "\n",
    "nat.plot(kind='bar',x='nationality')\n",
    "plt.xticks(rotation=30)\n",
    "plt.title\n",
    "plt.show()"
   ]
  },
  {
   "cell_type": "markdown",
   "id": "16663ae5",
   "metadata": {},
   "source": [
    "# Status Analysis"
   ]
  },
  {
   "cell_type": "markdown",
   "id": "ca7bf907",
   "metadata": {},
   "source": [
    "What percentage of players were retained, sold, and remained unsold?"
   ]
  },
  {
   "cell_type": "code",
   "execution_count": 58,
   "id": "a79b8181",
   "metadata": {},
   "outputs": [
    {
     "data": {
      "text/html": [
       "<div>\n",
       "<style scoped>\n",
       "    .dataframe tbody tr th:only-of-type {\n",
       "        vertical-align: middle;\n",
       "    }\n",
       "\n",
       "    .dataframe tbody tr th {\n",
       "        vertical-align: top;\n",
       "    }\n",
       "\n",
       "    .dataframe thead th {\n",
       "        text-align: right;\n",
       "    }\n",
       "</style>\n",
       "<table border=\"1\" class=\"dataframe\">\n",
       "  <thead>\n",
       "    <tr style=\"text-align: right;\">\n",
       "      <th></th>\n",
       "      <th>status</th>\n",
       "      <th>count</th>\n",
       "    </tr>\n",
       "  </thead>\n",
       "  <tbody>\n",
       "    <tr>\n",
       "      <th>0</th>\n",
       "      <td>RETAINED</td>\n",
       "      <td>158</td>\n",
       "    </tr>\n",
       "    <tr>\n",
       "      <th>1</th>\n",
       "      <td>SOLD</td>\n",
       "      <td>80</td>\n",
       "    </tr>\n",
       "    <tr>\n",
       "      <th>2</th>\n",
       "      <td>UNSOLD</td>\n",
       "      <td>71</td>\n",
       "    </tr>\n",
       "  </tbody>\n",
       "</table>\n",
       "</div>"
      ],
      "text/plain": [
       "     status  count\n",
       "0  RETAINED    158\n",
       "1      SOLD     80\n",
       "2    UNSOLD     71"
      ]
     },
     "execution_count": 58,
     "metadata": {},
     "output_type": "execute_result"
    }
   ],
   "source": [
    "stt = df['status'].value_counts().reset_index()\n",
    "stt"
   ]
  },
  {
   "cell_type": "code",
   "execution_count": 61,
   "id": "34a68e8d",
   "metadata": {},
   "outputs": [
    {
     "data": {
      "image/png": "[encoded data removed]",
      "text/plain": [
       "<Figure size 500x500 with 1 Axes>"
      ]
     },
     "metadata": {},
     "output_type": "display_data"
    }
   ],
   "source": [
    "plt.figure(figsize = (5,5))\n",
    "\n",
    "plt.pie(stt['count'],labels = ['RETAINED', 'UNSOLD', 'SOLD'],autopct = '%.2f',shadow = True)\n",
    "plt.title('Status of the Player',fontweight = 'bold')\n",
    "plt.show()"
   ]
  },
  {
   "cell_type": "code",
   "execution_count": 62,
   "id": "395aa556",
   "metadata": {},
   "outputs": [
    {
     "data": {
      "text/html": [
       "<div>\n",
       "<style scoped>\n",
       "    .dataframe tbody tr th:only-of-type {\n",
       "        vertical-align: middle;\n",
       "    }\n",
       "\n",
       "    .dataframe tbody tr th {\n",
       "        vertical-align: top;\n",
       "    }\n",
       "\n",
       "    .dataframe thead th {\n",
       "        text-align: right;\n",
       "    }\n",
       "</style>\n",
       "<table border=\"1\" class=\"dataframe\">\n",
       "  <thead>\n",
       "    <tr style=\"text-align: right;\">\n",
       "      <th></th>\n",
       "      <th>status</th>\n",
       "      <th>base price (in lacs)</th>\n",
       "      <th>final price (in lacs)</th>\n",
       "    </tr>\n",
       "  </thead>\n",
       "  <tbody>\n",
       "    <tr>\n",
       "      <th>0</th>\n",
       "      <td>RETAINED</td>\n",
       "      <td>NaN</td>\n",
       "      <td>448.734177</td>\n",
       "    </tr>\n",
       "    <tr>\n",
       "      <th>1</th>\n",
       "      <td>SOLD</td>\n",
       "      <td>62.375000</td>\n",
       "      <td>208.750000</td>\n",
       "    </tr>\n",
       "    <tr>\n",
       "      <th>2</th>\n",
       "      <td>UNSOLD</td>\n",
       "      <td>55.633803</td>\n",
       "      <td>NaN</td>\n",
       "    </tr>\n",
       "  </tbody>\n",
       "</table>\n",
       "</div>"
      ],
      "text/plain": [
       "     status  base price (in lacs)  final price (in lacs)\n",
       "0  RETAINED                   NaN             448.734177\n",
       "1      SOLD             62.375000             208.750000\n",
       "2    UNSOLD             55.633803                    NaN"
      ]
     },
     "execution_count": 62,
     "metadata": {},
     "output_type": "execute_result"
    }
   ],
   "source": [
    "data = df.groupby('status')[['base price (in lacs)','final price (in lacs)']].mean().reset_index()\n",
    "\n",
    "data"
   ]
  },
  {
   "cell_type": "code",
   "execution_count": 63,
   "id": "dd7becd8",
   "metadata": {},
   "outputs": [
    {
     "data": {
      "image/png": "[encoded data removed]",
      "text/plain": [
       "<Figure size 640x480 with 1 Axes>"
      ]
     },
     "metadata": {},
     "output_type": "display_data"
    }
   ],
   "source": [
    "data.plot(kind = 'bar',x = 'status')\n",
    "plt.xticks(rotation = 30)\n",
    "plt.ylabel('Price in Lakhs')\n",
    "plt.title('Data of player price',fontweight = 'bold')\n",
    "\n",
    "plt.show()"
   ]
  },
  {
   "cell_type": "markdown",
   "id": "df89d47c",
   "metadata": {},
   "source": [
    "# Player's Styles"
   ]
  },
  {
   "cell_type": "code",
   "execution_count": 69,
   "id": "22d6a01f",
   "metadata": {},
   "outputs": [
    {
     "data": {
      "image/png": "[encoded data removed]",
      "text/plain": [
       "<Figure size 640x480 with 1 Axes>"
      ]
     },
     "metadata": {},
     "output_type": "display_data"
    }
   ],
   "source": [
    "sns.histplot(df['player style'])\n",
    "plt.title('Distribution of Players Styles')\n",
    "plt.xlabel('Player Style')\n",
    "plt.ylabel('Count')\n",
    "\n",
    "plt.xticks(rotation = 90)\n",
    "plt.show()"
   ]
  },
  {
   "cell_type": "markdown",
   "id": "c190bcdb",
   "metadata": {},
   "source": [
    "# Model Building"
   ]
  },
  {
   "cell_type": "code",
   "execution_count": 99,
   "id": "a99fa21f",
   "metadata": {},
   "outputs": [],
   "source": [
    "from sklearn.tree import DecisionTreeClassifier\n",
    "from sklearn.model_selection import train_test_split\n",
    "from sklearn import metrics "
   ]
  },
  {
   "cell_type": "markdown",
   "id": "6cefac8b",
   "metadata": {},
   "source": [
    "One Hot Encoder"
   ]
  },
  {
   "cell_type": "code",
   "execution_count": 100,
   "id": "3e00a0e7",
   "metadata": {},
   "outputs": [
    {
     "data": {
      "text/html": [
       "<div>\n",
       "<style scoped>\n",
       "    .dataframe tbody tr th:only-of-type {\n",
       "        vertical-align: middle;\n",
       "    }\n",
       "\n",
       "    .dataframe tbody tr th {\n",
       "        vertical-align: top;\n",
       "    }\n",
       "\n",
       "    .dataframe thead th {\n",
       "        text-align: right;\n",
       "    }\n",
       "</style>\n",
       "<table border=\"1\" class=\"dataframe\">\n",
       "  <thead>\n",
       "    <tr style=\"text-align: right;\">\n",
       "      <th></th>\n",
       "      <th>name</th>\n",
       "      <th>base price (in lacs)</th>\n",
       "      <th>final price (in lacs)</th>\n",
       "      <th>status</th>\n",
       "      <th>player style_Allrounder</th>\n",
       "      <th>player style_Batter</th>\n",
       "      <th>player style_Bowler</th>\n",
       "      <th>player style_WK-Batter</th>\n",
       "      <th>nationality_Afghanistan</th>\n",
       "      <th>nationality_Australia</th>\n",
       "      <th>...</th>\n",
       "      <th>franchise_CSK</th>\n",
       "      <th>franchise_DC</th>\n",
       "      <th>franchise_GT</th>\n",
       "      <th>franchise_KKR</th>\n",
       "      <th>franchise_LSG</th>\n",
       "      <th>franchise_MI</th>\n",
       "      <th>franchise_PBKS</th>\n",
       "      <th>franchise_RCB</th>\n",
       "      <th>franchise_RR</th>\n",
       "      <th>franchise_SRH</th>\n",
       "    </tr>\n",
       "  </thead>\n",
       "  <tbody>\n",
       "    <tr>\n",
       "      <th>0</th>\n",
       "      <td>Harshit Rana</td>\n",
       "      <td>NaN</td>\n",
       "      <td>20.0</td>\n",
       "      <td>RETAINED</td>\n",
       "      <td>0</td>\n",
       "      <td>0</td>\n",
       "      <td>1</td>\n",
       "      <td>0</td>\n",
       "      <td>0</td>\n",
       "      <td>0</td>\n",
       "      <td>...</td>\n",
       "      <td>0</td>\n",
       "      <td>0</td>\n",
       "      <td>0</td>\n",
       "      <td>1</td>\n",
       "      <td>0</td>\n",
       "      <td>0</td>\n",
       "      <td>0</td>\n",
       "      <td>0</td>\n",
       "      <td>0</td>\n",
       "      <td>0</td>\n",
       "    </tr>\n",
       "    <tr>\n",
       "      <th>1</th>\n",
       "      <td>Ekant Sen</td>\n",
       "      <td>20.0</td>\n",
       "      <td>NaN</td>\n",
       "      <td>UNSOLD</td>\n",
       "      <td>0</td>\n",
       "      <td>1</td>\n",
       "      <td>0</td>\n",
       "      <td>0</td>\n",
       "      <td>0</td>\n",
       "      <td>0</td>\n",
       "      <td>...</td>\n",
       "      <td>0</td>\n",
       "      <td>0</td>\n",
       "      <td>0</td>\n",
       "      <td>0</td>\n",
       "      <td>0</td>\n",
       "      <td>0</td>\n",
       "      <td>0</td>\n",
       "      <td>0</td>\n",
       "      <td>0</td>\n",
       "      <td>0</td>\n",
       "    </tr>\n",
       "    <tr>\n",
       "      <th>2</th>\n",
       "      <td>Wayne Parnell</td>\n",
       "      <td>75.0</td>\n",
       "      <td>NaN</td>\n",
       "      <td>UNSOLD</td>\n",
       "      <td>1</td>\n",
       "      <td>0</td>\n",
       "      <td>0</td>\n",
       "      <td>0</td>\n",
       "      <td>0</td>\n",
       "      <td>0</td>\n",
       "      <td>...</td>\n",
       "      <td>0</td>\n",
       "      <td>0</td>\n",
       "      <td>0</td>\n",
       "      <td>0</td>\n",
       "      <td>0</td>\n",
       "      <td>0</td>\n",
       "      <td>0</td>\n",
       "      <td>0</td>\n",
       "      <td>0</td>\n",
       "      <td>0</td>\n",
       "    </tr>\n",
       "    <tr>\n",
       "      <th>3</th>\n",
       "      <td>Shakib Al Hasan</td>\n",
       "      <td>150.0</td>\n",
       "      <td>150.0</td>\n",
       "      <td>SOLD</td>\n",
       "      <td>1</td>\n",
       "      <td>0</td>\n",
       "      <td>0</td>\n",
       "      <td>0</td>\n",
       "      <td>0</td>\n",
       "      <td>0</td>\n",
       "      <td>...</td>\n",
       "      <td>0</td>\n",
       "      <td>0</td>\n",
       "      <td>0</td>\n",
       "      <td>1</td>\n",
       "      <td>0</td>\n",
       "      <td>0</td>\n",
       "      <td>0</td>\n",
       "      <td>0</td>\n",
       "      <td>0</td>\n",
       "      <td>0</td>\n",
       "    </tr>\n",
       "    <tr>\n",
       "      <th>4</th>\n",
       "      <td>Joe Root</td>\n",
       "      <td>100.0</td>\n",
       "      <td>100.0</td>\n",
       "      <td>SOLD</td>\n",
       "      <td>0</td>\n",
       "      <td>1</td>\n",
       "      <td>0</td>\n",
       "      <td>0</td>\n",
       "      <td>0</td>\n",
       "      <td>0</td>\n",
       "      <td>...</td>\n",
       "      <td>0</td>\n",
       "      <td>0</td>\n",
       "      <td>0</td>\n",
       "      <td>0</td>\n",
       "      <td>0</td>\n",
       "      <td>0</td>\n",
       "      <td>0</td>\n",
       "      <td>0</td>\n",
       "      <td>1</td>\n",
       "      <td>0</td>\n",
       "    </tr>\n",
       "    <tr>\n",
       "      <th>...</th>\n",
       "      <td>...</td>\n",
       "      <td>...</td>\n",
       "      <td>...</td>\n",
       "      <td>...</td>\n",
       "      <td>...</td>\n",
       "      <td>...</td>\n",
       "      <td>...</td>\n",
       "      <td>...</td>\n",
       "      <td>...</td>\n",
       "      <td>...</td>\n",
       "      <td>...</td>\n",
       "      <td>...</td>\n",
       "      <td>...</td>\n",
       "      <td>...</td>\n",
       "      <td>...</td>\n",
       "      <td>...</td>\n",
       "      <td>...</td>\n",
       "      <td>...</td>\n",
       "      <td>...</td>\n",
       "      <td>...</td>\n",
       "      <td>...</td>\n",
       "    </tr>\n",
       "    <tr>\n",
       "      <th>304</th>\n",
       "      <td>MS Dhoni</td>\n",
       "      <td>NaN</td>\n",
       "      <td>1200.0</td>\n",
       "      <td>RETAINED</td>\n",
       "      <td>0</td>\n",
       "      <td>0</td>\n",
       "      <td>0</td>\n",
       "      <td>1</td>\n",
       "      <td>0</td>\n",
       "      <td>0</td>\n",
       "      <td>...</td>\n",
       "      <td>1</td>\n",
       "      <td>0</td>\n",
       "      <td>0</td>\n",
       "      <td>0</td>\n",
       "      <td>0</td>\n",
       "      <td>0</td>\n",
       "      <td>0</td>\n",
       "      <td>0</td>\n",
       "      <td>0</td>\n",
       "      <td>0</td>\n",
       "    </tr>\n",
       "    <tr>\n",
       "      <th>305</th>\n",
       "      <td>Moeen Ali</td>\n",
       "      <td>NaN</td>\n",
       "      <td>800.0</td>\n",
       "      <td>RETAINED</td>\n",
       "      <td>1</td>\n",
       "      <td>0</td>\n",
       "      <td>0</td>\n",
       "      <td>0</td>\n",
       "      <td>0</td>\n",
       "      <td>0</td>\n",
       "      <td>...</td>\n",
       "      <td>1</td>\n",
       "      <td>0</td>\n",
       "      <td>0</td>\n",
       "      <td>0</td>\n",
       "      <td>0</td>\n",
       "      <td>0</td>\n",
       "      <td>0</td>\n",
       "      <td>0</td>\n",
       "      <td>0</td>\n",
       "      <td>0</td>\n",
       "    </tr>\n",
       "    <tr>\n",
       "      <th>306</th>\n",
       "      <td>Ruturaj Gaikwad</td>\n",
       "      <td>NaN</td>\n",
       "      <td>600.0</td>\n",
       "      <td>RETAINED</td>\n",
       "      <td>0</td>\n",
       "      <td>1</td>\n",
       "      <td>0</td>\n",
       "      <td>0</td>\n",
       "      <td>0</td>\n",
       "      <td>0</td>\n",
       "      <td>...</td>\n",
       "      <td>1</td>\n",
       "      <td>0</td>\n",
       "      <td>0</td>\n",
       "      <td>0</td>\n",
       "      <td>0</td>\n",
       "      <td>0</td>\n",
       "      <td>0</td>\n",
       "      <td>0</td>\n",
       "      <td>0</td>\n",
       "      <td>0</td>\n",
       "    </tr>\n",
       "    <tr>\n",
       "      <th>307</th>\n",
       "      <td>Rishabh Pant</td>\n",
       "      <td>NaN</td>\n",
       "      <td>1600.0</td>\n",
       "      <td>RETAINED</td>\n",
       "      <td>0</td>\n",
       "      <td>0</td>\n",
       "      <td>0</td>\n",
       "      <td>1</td>\n",
       "      <td>0</td>\n",
       "      <td>0</td>\n",
       "      <td>...</td>\n",
       "      <td>0</td>\n",
       "      <td>1</td>\n",
       "      <td>0</td>\n",
       "      <td>0</td>\n",
       "      <td>0</td>\n",
       "      <td>0</td>\n",
       "      <td>0</td>\n",
       "      <td>0</td>\n",
       "      <td>0</td>\n",
       "      <td>0</td>\n",
       "    </tr>\n",
       "    <tr>\n",
       "      <th>308</th>\n",
       "      <td>Axar Patel</td>\n",
       "      <td>NaN</td>\n",
       "      <td>900.0</td>\n",
       "      <td>RETAINED</td>\n",
       "      <td>1</td>\n",
       "      <td>0</td>\n",
       "      <td>0</td>\n",
       "      <td>0</td>\n",
       "      <td>0</td>\n",
       "      <td>0</td>\n",
       "      <td>...</td>\n",
       "      <td>0</td>\n",
       "      <td>1</td>\n",
       "      <td>0</td>\n",
       "      <td>0</td>\n",
       "      <td>0</td>\n",
       "      <td>0</td>\n",
       "      <td>0</td>\n",
       "      <td>0</td>\n",
       "      <td>0</td>\n",
       "      <td>0</td>\n",
       "    </tr>\n",
       "  </tbody>\n",
       "</table>\n",
       "<p>309 rows × 32 columns</p>\n",
       "</div>"
      ],
      "text/plain": [
       "                name  base price (in lacs)  final price (in lacs)    status  \\\n",
       "0       Harshit Rana                   NaN                   20.0  RETAINED   \n",
       "1          Ekant Sen                  20.0                    NaN    UNSOLD   \n",
       "2      Wayne Parnell                  75.0                    NaN    UNSOLD   \n",
       "3    Shakib Al Hasan                 150.0                  150.0      SOLD   \n",
       "4           Joe Root                 100.0                  100.0      SOLD   \n",
       "..               ...                   ...                    ...       ...   \n",
       "304         MS Dhoni                   NaN                 1200.0  RETAINED   \n",
       "305        Moeen Ali                   NaN                  800.0  RETAINED   \n",
       "306  Ruturaj Gaikwad                   NaN                  600.0  RETAINED   \n",
       "307     Rishabh Pant                   NaN                 1600.0  RETAINED   \n",
       "308       Axar Patel                   NaN                  900.0  RETAINED   \n",
       "\n",
       "     player style_Allrounder  player style_Batter  player style_Bowler  \\\n",
       "0                          0                    0                    1   \n",
       "1                          0                    1                    0   \n",
       "2                          1                    0                    0   \n",
       "3                          1                    0                    0   \n",
       "4                          0                    1                    0   \n",
       "..                       ...                  ...                  ...   \n",
       "304                        0                    0                    0   \n",
       "305                        1                    0                    0   \n",
       "306                        0                    1                    0   \n",
       "307                        0                    0                    0   \n",
       "308                        1                    0                    0   \n",
       "\n",
       "     player style_WK-Batter  nationality_Afghanistan  nationality_Australia  \\\n",
       "0                         0                        0                      0   \n",
       "1                         0                        0                      0   \n",
       "2                         0                        0                      0   \n",
       "3                         0                        0                      0   \n",
       "4                         0                        0                      0   \n",
       "..                      ...                      ...                    ...   \n",
       "304                       1                        0                      0   \n",
       "305                       0                        0                      0   \n",
       "306                       0                        0                      0   \n",
       "307                       1                        0                      0   \n",
       "308                       0                        0                      0   \n",
       "\n",
       "     ...  franchise_CSK  franchise_DC  franchise_GT  franchise_KKR  \\\n",
       "0    ...              0             0             0              1   \n",
       "1    ...              0             0             0              0   \n",
       "2    ...              0             0             0              0   \n",
       "3    ...              0             0             0              1   \n",
       "4    ...              0             0             0              0   \n",
       "..   ...            ...           ...           ...            ...   \n",
       "304  ...              1             0             0              0   \n",
       "305  ...              1             0             0              0   \n",
       "306  ...              1             0             0              0   \n",
       "307  ...              0             1             0              0   \n",
       "308  ...              0             1             0              0   \n",
       "\n",
       "     franchise_LSG  franchise_MI  franchise_PBKS  franchise_RCB  franchise_RR  \\\n",
       "0                0             0               0              0             0   \n",
       "1                0             0               0              0             0   \n",
       "2                0             0               0              0             0   \n",
       "3                0             0               0              0             0   \n",
       "4                0             0               0              0             1   \n",
       "..             ...           ...             ...            ...           ...   \n",
       "304              0             0               0              0             0   \n",
       "305              0             0               0              0             0   \n",
       "306              0             0               0              0             0   \n",
       "307              0             0               0              0             0   \n",
       "308              0             0               0              0             0   \n",
       "\n",
       "     franchise_SRH  \n",
       "0                0  \n",
       "1                0  \n",
       "2                0  \n",
       "3                0  \n",
       "4                0  \n",
       "..             ...  \n",
       "304              0  \n",
       "305              0  \n",
       "306              0  \n",
       "307              0  \n",
       "308              0  \n",
       "\n",
       "[309 rows x 32 columns]"
      ]
     },
     "execution_count": 100,
     "metadata": {},
     "output_type": "execute_result"
    }
   ],
   "source": [
    "df_encoded = pd.get_dummies(df, columns=[\"player style\",\"nationality\",\"franchise\"],dtype=int)\n",
    "df_encoded"
   ]
  },
  {
   "cell_type": "code",
   "execution_count": 101,
   "id": "96f04f98",
   "metadata": {},
   "outputs": [
    {
     "data": {
      "text/plain": [
       "status\n",
       "RETAINED    158\n",
       "SOLD         80\n",
       "UNSOLD       71\n",
       "Name: count, dtype: int64"
      ]
     },
     "execution_count": 101,
     "metadata": {},
     "output_type": "execute_result"
    }
   ],
   "source": [
    "df['status'].value_counts()"
   ]
  },
  {
   "cell_type": "code",
   "execution_count": 102,
   "id": "e8c31256",
   "metadata": {},
   "outputs": [],
   "source": [
    "df['status'].value_counts()\n",
    "df_encoded['status'] = df_encoded['status'].map({\"RETAINED\":0,\"SOLD\" :1,\"UNSOLD\": 2}).astype(int)\n",
    "\n",
    "df_encoded['final price (in lacs)'] =df_encoded[\"final price (in lacs)\"].fillna(0)"
   ]
  },
  {
   "cell_type": "code",
   "execution_count": 103,
   "id": "55d08fc5",
   "metadata": {},
   "outputs": [
    {
     "data": {
      "text/html": [
       "<div>\n",
       "<style scoped>\n",
       "    .dataframe tbody tr th:only-of-type {\n",
       "        vertical-align: middle;\n",
       "    }\n",
       "\n",
       "    .dataframe tbody tr th {\n",
       "        vertical-align: top;\n",
       "    }\n",
       "\n",
       "    .dataframe thead th {\n",
       "        text-align: right;\n",
       "    }\n",
       "</style>\n",
       "<table border=\"1\" class=\"dataframe\">\n",
       "  <thead>\n",
       "    <tr style=\"text-align: right;\">\n",
       "      <th></th>\n",
       "      <th>final price (in lacs)</th>\n",
       "      <th>status</th>\n",
       "      <th>player style_Allrounder</th>\n",
       "      <th>player style_Batter</th>\n",
       "      <th>player style_Bowler</th>\n",
       "      <th>player style_WK-Batter</th>\n",
       "      <th>nationality_Afghanistan</th>\n",
       "      <th>nationality_Australia</th>\n",
       "      <th>nationality_Bangladesh</th>\n",
       "      <th>nationality_England</th>\n",
       "      <th>...</th>\n",
       "      <th>franchise_CSK</th>\n",
       "      <th>franchise_DC</th>\n",
       "      <th>franchise_GT</th>\n",
       "      <th>franchise_KKR</th>\n",
       "      <th>franchise_LSG</th>\n",
       "      <th>franchise_MI</th>\n",
       "      <th>franchise_PBKS</th>\n",
       "      <th>franchise_RCB</th>\n",
       "      <th>franchise_RR</th>\n",
       "      <th>franchise_SRH</th>\n",
       "    </tr>\n",
       "  </thead>\n",
       "  <tbody>\n",
       "    <tr>\n",
       "      <th>0</th>\n",
       "      <td>20.0</td>\n",
       "      <td>0</td>\n",
       "      <td>0</td>\n",
       "      <td>0</td>\n",
       "      <td>1</td>\n",
       "      <td>0</td>\n",
       "      <td>0</td>\n",
       "      <td>0</td>\n",
       "      <td>0</td>\n",
       "      <td>0</td>\n",
       "      <td>...</td>\n",
       "      <td>0</td>\n",
       "      <td>0</td>\n",
       "      <td>0</td>\n",
       "      <td>1</td>\n",
       "      <td>0</td>\n",
       "      <td>0</td>\n",
       "      <td>0</td>\n",
       "      <td>0</td>\n",
       "      <td>0</td>\n",
       "      <td>0</td>\n",
       "    </tr>\n",
       "    <tr>\n",
       "      <th>1</th>\n",
       "      <td>0.0</td>\n",
       "      <td>2</td>\n",
       "      <td>0</td>\n",
       "      <td>1</td>\n",
       "      <td>0</td>\n",
       "      <td>0</td>\n",
       "      <td>0</td>\n",
       "      <td>0</td>\n",
       "      <td>0</td>\n",
       "      <td>0</td>\n",
       "      <td>...</td>\n",
       "      <td>0</td>\n",
       "      <td>0</td>\n",
       "      <td>0</td>\n",
       "      <td>0</td>\n",
       "      <td>0</td>\n",
       "      <td>0</td>\n",
       "      <td>0</td>\n",
       "      <td>0</td>\n",
       "      <td>0</td>\n",
       "      <td>0</td>\n",
       "    </tr>\n",
       "    <tr>\n",
       "      <th>2</th>\n",
       "      <td>0.0</td>\n",
       "      <td>2</td>\n",
       "      <td>1</td>\n",
       "      <td>0</td>\n",
       "      <td>0</td>\n",
       "      <td>0</td>\n",
       "      <td>0</td>\n",
       "      <td>0</td>\n",
       "      <td>0</td>\n",
       "      <td>0</td>\n",
       "      <td>...</td>\n",
       "      <td>0</td>\n",
       "      <td>0</td>\n",
       "      <td>0</td>\n",
       "      <td>0</td>\n",
       "      <td>0</td>\n",
       "      <td>0</td>\n",
       "      <td>0</td>\n",
       "      <td>0</td>\n",
       "      <td>0</td>\n",
       "      <td>0</td>\n",
       "    </tr>\n",
       "    <tr>\n",
       "      <th>3</th>\n",
       "      <td>150.0</td>\n",
       "      <td>1</td>\n",
       "      <td>1</td>\n",
       "      <td>0</td>\n",
       "      <td>0</td>\n",
       "      <td>0</td>\n",
       "      <td>0</td>\n",
       "      <td>0</td>\n",
       "      <td>1</td>\n",
       "      <td>0</td>\n",
       "      <td>...</td>\n",
       "      <td>0</td>\n",
       "      <td>0</td>\n",
       "      <td>0</td>\n",
       "      <td>1</td>\n",
       "      <td>0</td>\n",
       "      <td>0</td>\n",
       "      <td>0</td>\n",
       "      <td>0</td>\n",
       "      <td>0</td>\n",
       "      <td>0</td>\n",
       "    </tr>\n",
       "    <tr>\n",
       "      <th>4</th>\n",
       "      <td>100.0</td>\n",
       "      <td>1</td>\n",
       "      <td>0</td>\n",
       "      <td>1</td>\n",
       "      <td>0</td>\n",
       "      <td>0</td>\n",
       "      <td>0</td>\n",
       "      <td>0</td>\n",
       "      <td>0</td>\n",
       "      <td>1</td>\n",
       "      <td>...</td>\n",
       "      <td>0</td>\n",
       "      <td>0</td>\n",
       "      <td>0</td>\n",
       "      <td>0</td>\n",
       "      <td>0</td>\n",
       "      <td>0</td>\n",
       "      <td>0</td>\n",
       "      <td>0</td>\n",
       "      <td>1</td>\n",
       "      <td>0</td>\n",
       "    </tr>\n",
       "    <tr>\n",
       "      <th>...</th>\n",
       "      <td>...</td>\n",
       "      <td>...</td>\n",
       "      <td>...</td>\n",
       "      <td>...</td>\n",
       "      <td>...</td>\n",
       "      <td>...</td>\n",
       "      <td>...</td>\n",
       "      <td>...</td>\n",
       "      <td>...</td>\n",
       "      <td>...</td>\n",
       "      <td>...</td>\n",
       "      <td>...</td>\n",
       "      <td>...</td>\n",
       "      <td>...</td>\n",
       "      <td>...</td>\n",
       "      <td>...</td>\n",
       "      <td>...</td>\n",
       "      <td>...</td>\n",
       "      <td>...</td>\n",
       "      <td>...</td>\n",
       "      <td>...</td>\n",
       "    </tr>\n",
       "    <tr>\n",
       "      <th>304</th>\n",
       "      <td>1200.0</td>\n",
       "      <td>0</td>\n",
       "      <td>0</td>\n",
       "      <td>0</td>\n",
       "      <td>0</td>\n",
       "      <td>1</td>\n",
       "      <td>0</td>\n",
       "      <td>0</td>\n",
       "      <td>0</td>\n",
       "      <td>0</td>\n",
       "      <td>...</td>\n",
       "      <td>1</td>\n",
       "      <td>0</td>\n",
       "      <td>0</td>\n",
       "      <td>0</td>\n",
       "      <td>0</td>\n",
       "      <td>0</td>\n",
       "      <td>0</td>\n",
       "      <td>0</td>\n",
       "      <td>0</td>\n",
       "      <td>0</td>\n",
       "    </tr>\n",
       "    <tr>\n",
       "      <th>305</th>\n",
       "      <td>800.0</td>\n",
       "      <td>0</td>\n",
       "      <td>1</td>\n",
       "      <td>0</td>\n",
       "      <td>0</td>\n",
       "      <td>0</td>\n",
       "      <td>0</td>\n",
       "      <td>0</td>\n",
       "      <td>0</td>\n",
       "      <td>1</td>\n",
       "      <td>...</td>\n",
       "      <td>1</td>\n",
       "      <td>0</td>\n",
       "      <td>0</td>\n",
       "      <td>0</td>\n",
       "      <td>0</td>\n",
       "      <td>0</td>\n",
       "      <td>0</td>\n",
       "      <td>0</td>\n",
       "      <td>0</td>\n",
       "      <td>0</td>\n",
       "    </tr>\n",
       "    <tr>\n",
       "      <th>306</th>\n",
       "      <td>600.0</td>\n",
       "      <td>0</td>\n",
       "      <td>0</td>\n",
       "      <td>1</td>\n",
       "      <td>0</td>\n",
       "      <td>0</td>\n",
       "      <td>0</td>\n",
       "      <td>0</td>\n",
       "      <td>0</td>\n",
       "      <td>0</td>\n",
       "      <td>...</td>\n",
       "      <td>1</td>\n",
       "      <td>0</td>\n",
       "      <td>0</td>\n",
       "      <td>0</td>\n",
       "      <td>0</td>\n",
       "      <td>0</td>\n",
       "      <td>0</td>\n",
       "      <td>0</td>\n",
       "      <td>0</td>\n",
       "      <td>0</td>\n",
       "    </tr>\n",
       "    <tr>\n",
       "      <th>307</th>\n",
       "      <td>1600.0</td>\n",
       "      <td>0</td>\n",
       "      <td>0</td>\n",
       "      <td>0</td>\n",
       "      <td>0</td>\n",
       "      <td>1</td>\n",
       "      <td>0</td>\n",
       "      <td>0</td>\n",
       "      <td>0</td>\n",
       "      <td>0</td>\n",
       "      <td>...</td>\n",
       "      <td>0</td>\n",
       "      <td>1</td>\n",
       "      <td>0</td>\n",
       "      <td>0</td>\n",
       "      <td>0</td>\n",
       "      <td>0</td>\n",
       "      <td>0</td>\n",
       "      <td>0</td>\n",
       "      <td>0</td>\n",
       "      <td>0</td>\n",
       "    </tr>\n",
       "    <tr>\n",
       "      <th>308</th>\n",
       "      <td>900.0</td>\n",
       "      <td>0</td>\n",
       "      <td>1</td>\n",
       "      <td>0</td>\n",
       "      <td>0</td>\n",
       "      <td>0</td>\n",
       "      <td>0</td>\n",
       "      <td>0</td>\n",
       "      <td>0</td>\n",
       "      <td>0</td>\n",
       "      <td>...</td>\n",
       "      <td>0</td>\n",
       "      <td>1</td>\n",
       "      <td>0</td>\n",
       "      <td>0</td>\n",
       "      <td>0</td>\n",
       "      <td>0</td>\n",
       "      <td>0</td>\n",
       "      <td>0</td>\n",
       "      <td>0</td>\n",
       "      <td>0</td>\n",
       "    </tr>\n",
       "  </tbody>\n",
       "</table>\n",
       "<p>309 rows × 30 columns</p>\n",
       "</div>"
      ],
      "text/plain": [
       "     final price (in lacs)  status  player style_Allrounder  \\\n",
       "0                     20.0       0                        0   \n",
       "1                      0.0       2                        0   \n",
       "2                      0.0       2                        1   \n",
       "3                    150.0       1                        1   \n",
       "4                    100.0       1                        0   \n",
       "..                     ...     ...                      ...   \n",
       "304                 1200.0       0                        0   \n",
       "305                  800.0       0                        1   \n",
       "306                  600.0       0                        0   \n",
       "307                 1600.0       0                        0   \n",
       "308                  900.0       0                        1   \n",
       "\n",
       "     player style_Batter  player style_Bowler  player style_WK-Batter  \\\n",
       "0                      0                    1                       0   \n",
       "1                      1                    0                       0   \n",
       "2                      0                    0                       0   \n",
       "3                      0                    0                       0   \n",
       "4                      1                    0                       0   \n",
       "..                   ...                  ...                     ...   \n",
       "304                    0                    0                       1   \n",
       "305                    0                    0                       0   \n",
       "306                    1                    0                       0   \n",
       "307                    0                    0                       1   \n",
       "308                    0                    0                       0   \n",
       "\n",
       "     nationality_Afghanistan  nationality_Australia  nationality_Bangladesh  \\\n",
       "0                          0                      0                       0   \n",
       "1                          0                      0                       0   \n",
       "2                          0                      0                       0   \n",
       "3                          0                      0                       1   \n",
       "4                          0                      0                       0   \n",
       "..                       ...                    ...                     ...   \n",
       "304                        0                      0                       0   \n",
       "305                        0                      0                       0   \n",
       "306                        0                      0                       0   \n",
       "307                        0                      0                       0   \n",
       "308                        0                      0                       0   \n",
       "\n",
       "     nationality_England  ...  franchise_CSK  franchise_DC  franchise_GT  \\\n",
       "0                      0  ...              0             0             0   \n",
       "1                      0  ...              0             0             0   \n",
       "2                      0  ...              0             0             0   \n",
       "3                      0  ...              0             0             0   \n",
       "4                      1  ...              0             0             0   \n",
       "..                   ...  ...            ...           ...           ...   \n",
       "304                    0  ...              1             0             0   \n",
       "305                    1  ...              1             0             0   \n",
       "306                    0  ...              1             0             0   \n",
       "307                    0  ...              0             1             0   \n",
       "308                    0  ...              0             1             0   \n",
       "\n",
       "     franchise_KKR  franchise_LSG  franchise_MI  franchise_PBKS  \\\n",
       "0                1              0             0               0   \n",
       "1                0              0             0               0   \n",
       "2                0              0             0               0   \n",
       "3                1              0             0               0   \n",
       "4                0              0             0               0   \n",
       "..             ...            ...           ...             ...   \n",
       "304              0              0             0               0   \n",
       "305              0              0             0               0   \n",
       "306              0              0             0               0   \n",
       "307              0              0             0               0   \n",
       "308              0              0             0               0   \n",
       "\n",
       "     franchise_RCB  franchise_RR  franchise_SRH  \n",
       "0                0             0              0  \n",
       "1                0             0              0  \n",
       "2                0             0              0  \n",
       "3                0             0              0  \n",
       "4                0             1              0  \n",
       "..             ...           ...            ...  \n",
       "304              0             0              0  \n",
       "305              0             0              0  \n",
       "306              0             0              0  \n",
       "307              0             0              0  \n",
       "308              0             0              0  \n",
       "\n",
       "[309 rows x 30 columns]"
      ]
     },
     "execution_count": 103,
     "metadata": {},
     "output_type": "execute_result"
    }
   ],
   "source": [
    "df_encoded=df_encoded.drop(columns=[\"name\",\"base price (in lacs)\"])\n",
    "df_encoded"
   ]
  },
  {
   "cell_type": "code",
   "execution_count": 104,
   "id": "08ce97bb",
   "metadata": {},
   "outputs": [],
   "source": [
    "X=df_encoded.drop(columns=\"status\")\n",
    "y=df_encoded.status"
   ]
  },
  {
   "cell_type": "markdown",
   "id": "e0629ac6",
   "metadata": {},
   "source": [
    "Split dataset into training set and test set"
   ]
  },
  {
   "cell_type": "code",
   "execution_count": 105,
   "id": "4c9cc3e2",
   "metadata": {},
   "outputs": [],
   "source": [
    "X_train,X_test,y_train,y_test = train_test_split(X,y,test_size = 0.3,random_state = 1)"
   ]
  },
  {
   "cell_type": "markdown",
   "id": "4331f372",
   "metadata": {},
   "source": [
    "# Predict the Model"
   ]
  },
  {
   "cell_type": "code",
   "execution_count": 106,
   "id": "452cd42e",
   "metadata": {},
   "outputs": [
    {
     "name": "stdout",
     "output_type": "stream",
     "text": [
      "Accuracy: 0.6989247311827957\n"
     ]
    }
   ],
   "source": [
    "clf = DecisionTreeClassifier()\n",
    "clf = clf.fit(X_train,y_train)\n",
    "y_pred = clf.predict(X_test)\n",
    "print(\"Accuracy:\",metrics.accuracy_score(y_test, y_pred))"
   ]
  }
 ],
 "metadata": {
  "kernelspec": {
   "display_name": "Python 3 (ipykernel)",
   "language": "python",
   "name": "python3"
  },
  "language_info": {
   "codemirror_mode": {
    "name": "ipython",
    "version": 3
   },
   "file_extension": ".py",
   "mimetype": "text/x-python",
   "name": "python",
   "nbconvert_exporter": "python",
   "pygments_lexer": "ipython3",
   "version": "3.11.5"
  }
 },
 "nbformat": 4,
 "nbformat_minor": 5
}
